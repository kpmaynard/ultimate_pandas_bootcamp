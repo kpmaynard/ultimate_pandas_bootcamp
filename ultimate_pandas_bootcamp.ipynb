{
  "nbformat": 4,
  "nbformat_minor": 0,
  "metadata": {
    "colab": {
      "name": "ultimate_pandas_bootcamp.ipynb",
      "provenance": [],
      "authorship_tag": "ABX9TyNFAwPwIms2Ub2cSgSbSe7w",
      "include_colab_link": true
    },
    "kernelspec": {
      "name": "python3",
      "display_name": "Python 3"
    },
    "language_info": {
      "name": "python"
    }
  },
  "cells": [
    {
      "cell_type": "markdown",
      "metadata": {
        "id": "view-in-github",
        "colab_type": "text"
      },
      "source": [
        "<a href=\"https://colab.research.google.com/github/kpmaynard/ultimate_pandas_bootcamp/blob/main/ultimate_pandas_bootcamp.ipynb\" target=\"_parent\"><img src=\"https://colab.research.google.com/assets/colab-badge.svg\" alt=\"Open In Colab\"/></a>"
      ]
    },
    {
      "cell_type": "code",
      "source": [
        "# !pip3 install nb_black"
      ],
      "metadata": {
        "id": "ldpZy6yChzKW"
      },
      "execution_count": 2,
      "outputs": []
    },
    {
      "cell_type": "code",
      "execution_count": 3,
      "metadata": {
        "id": "rTnA1fB50t25"
      },
      "outputs": [],
      "source": [
        "import pandas as pd"
      ]
    },
    {
      "cell_type": "code",
      "source": [
        "actors = ['Denzel Washington', 'Bill Cosby', 'Sidney Poitier', 'Halle Berry']\n",
        "actors_ages = [67, 84, 94, 55]"
      ],
      "metadata": {
        "id": "5RfwvQYZ47Af"
      },
      "execution_count": 4,
      "outputs": []
    },
    {
      "cell_type": "code",
      "source": [
        "actor_series = pd.Series(actors_ages, index=actors)"
      ],
      "metadata": {
        "id": "F1bfsKLZ64EB"
      },
      "execution_count": 5,
      "outputs": []
    },
    {
      "cell_type": "code",
      "source": [
        "actor_series"
      ],
      "metadata": {
        "colab": {
          "base_uri": "https://localhost:8080/"
        },
        "id": "FET4QvH67hyB",
        "outputId": "9a2fe1ae-7e2d-4f8f-967c-b5985e0555fd"
      },
      "execution_count": 6,
      "outputs": [
        {
          "output_type": "execute_result",
          "data": {
            "text/plain": [
              "Denzel Washington    67\n",
              "Bill Cosby           84\n",
              "Sidney Poitier       94\n",
              "Halle Berry          55\n",
              "dtype: int64"
            ]
          },
          "metadata": {},
          "execution_count": 6
        }
      ]
    },
    {
      "cell_type": "code",
      "source": [
        "actor_zip = zip(actors, actors_ages)\n",
        "# actor_dict ={k:v for k,v in actor_zip}\n",
        "actor_dict = dict(actor_zip)"
      ],
      "metadata": {
        "id": "UKXoyo7Z7lk2"
      },
      "execution_count": 7,
      "outputs": []
    },
    {
      "cell_type": "code",
      "source": [
        "actor_series2 = pd.Series(actor_dict)"
      ],
      "metadata": {
        "id": "8UPFcF__8E_C"
      },
      "execution_count": 8,
      "outputs": []
    },
    {
      "cell_type": "code",
      "source": [
        "actor_series2"
      ],
      "metadata": {
        "colab": {
          "base_uri": "https://localhost:8080/"
        },
        "id": "aoG1I8Ra8tl5",
        "outputId": "20e8681b-1b63-4c78-ec01-c36fe01041cf"
      },
      "execution_count": 9,
      "outputs": [
        {
          "output_type": "execute_result",
          "data": {
            "text/plain": [
              "Denzel Washington    67\n",
              "Bill Cosby           84\n",
              "Sidney Poitier       94\n",
              "Halle Berry          55\n",
              "dtype: int64"
            ]
          },
          "metadata": {},
          "execution_count": 9
        }
      ]
    },
    {
      "cell_type": "code",
      "source": [
        "lseries = pd.Series([i for i in range(60)])"
      ],
      "metadata": {
        "id": "JWlwdisi9MY_"
      },
      "execution_count": 10,
      "outputs": []
    },
    {
      "cell_type": "code",
      "source": [
        "lseries.head()"
      ],
      "metadata": {
        "colab": {
          "base_uri": "https://localhost:8080/"
        },
        "id": "gH0t5Ty6iTeJ",
        "outputId": "8fd86c7b-6b89-4590-fbe8-708f6a1e675a"
      },
      "execution_count": 11,
      "outputs": [
        {
          "output_type": "execute_result",
          "data": {
            "text/plain": [
              "0    0\n",
              "1    1\n",
              "2    2\n",
              "3    3\n",
              "4    4\n",
              "dtype: int64"
            ]
          },
          "metadata": {},
          "execution_count": 11
        }
      ]
    },
    {
      "cell_type": "code",
      "source": [
        "from string import ascii_lowercase\n",
        "from string import ascii_uppercase"
      ],
      "metadata": {
        "id": "G8XANzVIiWy9"
      },
      "execution_count": 12,
      "outputs": []
    },
    {
      "cell_type": "code",
      "source": [
        "# labelled_alphabet_series = pd.Series([i for i in ascii_lowercase])\n",
        "labelled_alphabet_series = pd.Series(data = list(ascii_lowercase), index=(map(lambda x: 'Label_' + x, list(ascii_uppercase) )))\n",
        "labelled_alphabet_series.head()"
      ],
      "metadata": {
        "colab": {
          "base_uri": "https://localhost:8080/"
        },
        "id": "3HIDW3kJ4UNE",
        "outputId": "ef8a6c86-47ed-4983-871b-97db52a8edc0"
      },
      "execution_count": 13,
      "outputs": [
        {
          "output_type": "execute_result",
          "data": {
            "text/plain": [
              "Label_A    a\n",
              "Label_B    b\n",
              "Label_C    c\n",
              "Label_D    d\n",
              "Label_E    e\n",
              "dtype: object"
            ]
          },
          "metadata": {},
          "execution_count": 13
        }
      ]
    },
    {
      "cell_type": "code",
      "source": [
        "# import string\n",
        "# help(string)"
      ],
      "metadata": {
        "id": "YByEmBwW5EFR"
      },
      "execution_count": 14,
      "outputs": []
    },
    {
      "cell_type": "code",
      "source": [
        "labelled_alphabet_series[0]"
      ],
      "metadata": {
        "colab": {
          "base_uri": "https://localhost:8080/",
          "height": 35
        },
        "id": "JlXup2Xw4W8q",
        "outputId": "b1b6aad6-420c-408b-bd80-06938b5412e3"
      },
      "execution_count": 15,
      "outputs": [
        {
          "output_type": "execute_result",
          "data": {
            "application/vnd.google.colaboratory.intrinsic+json": {
              "type": "string"
            },
            "text/plain": [
              "'a'"
            ]
          },
          "metadata": {},
          "execution_count": 15
        }
      ]
    },
    {
      "cell_type": "code",
      "source": [
        "labelled_alphabet_series[:3]"
      ],
      "metadata": {
        "colab": {
          "base_uri": "https://localhost:8080/"
        },
        "id": "-Re8kLpl4reS",
        "outputId": "b1522057-1be4-4404-ac98-cc58dd1ce987"
      },
      "execution_count": 16,
      "outputs": [
        {
          "output_type": "execute_result",
          "data": {
            "text/plain": [
              "Label_A    a\n",
              "Label_B    b\n",
              "Label_C    c\n",
              "dtype: object"
            ]
          },
          "metadata": {},
          "execution_count": 16
        }
      ]
    },
    {
      "cell_type": "code",
      "source": [
        "# note that in slicing using labels, the endpoint is INCLUSIVE while using position\n",
        "# the end point is EXCLUSIVE\n",
        "\n",
        "labelled_alphabet_series[:'Label_C']"
      ],
      "metadata": {
        "colab": {
          "base_uri": "https://localhost:8080/"
        },
        "id": "fybRDYAB4812",
        "outputId": "f7d81c2d-f0c3-47a9-b44c-2c003e7c696e"
      },
      "execution_count": 17,
      "outputs": [
        {
          "output_type": "execute_result",
          "data": {
            "text/plain": [
              "Label_A    a\n",
              "Label_B    b\n",
              "Label_C    c\n",
              "dtype: object"
            ]
          },
          "metadata": {},
          "execution_count": 17
        }
      ]
    },
    {
      "cell_type": "code",
      "source": [
        "#4 sixth through 10th letters\n",
        "labelled_alphabet_series[5:10]"
      ],
      "metadata": {
        "colab": {
          "base_uri": "https://localhost:8080/"
        },
        "id": "J_YT_MZTvCtf",
        "outputId": "41fd827f-0897-4b11-91ff-825bb50a4eec"
      },
      "execution_count": 18,
      "outputs": [
        {
          "output_type": "execute_result",
          "data": {
            "text/plain": [
              "Label_F    f\n",
              "Label_G    g\n",
              "Label_H    h\n",
              "Label_I    i\n",
              "Label_J    j\n",
              "dtype: object"
            ]
          },
          "metadata": {},
          "execution_count": 18
        }
      ]
    },
    {
      "cell_type": "code",
      "source": [
        "#4 using labels\n",
        "labelled_alphabet_series['Label_F':'Label_J']"
      ],
      "metadata": {
        "colab": {
          "base_uri": "https://localhost:8080/"
        },
        "id": "3lcXqxD0pv5x",
        "outputId": "3940b8d5-0438-41e7-f1f9-62185733f402"
      },
      "execution_count": 19,
      "outputs": [
        {
          "output_type": "execute_result",
          "data": {
            "text/plain": [
              "Label_F    f\n",
              "Label_G    g\n",
              "Label_H    h\n",
              "Label_I    i\n",
              "Label_J    j\n",
              "dtype: object"
            ]
          },
          "metadata": {},
          "execution_count": 19
        }
      ]
    },
    {
      "cell_type": "code",
      "source": [
        "#5 last six letters using indexing\n",
        "labelled_alphabet_series[-6:]"
      ],
      "metadata": {
        "colab": {
          "base_uri": "https://localhost:8080/"
        },
        "id": "GNurQIXbvs0a",
        "outputId": "5dc10a30-fd88-4fdd-b5b9-6e1c48384bbe"
      },
      "execution_count": 20,
      "outputs": [
        {
          "output_type": "execute_result",
          "data": {
            "text/plain": [
              "Label_U    u\n",
              "Label_V    v\n",
              "Label_W    w\n",
              "Label_X    x\n",
              "Label_Y    y\n",
              "Label_Z    z\n",
              "dtype: object"
            ]
          },
          "metadata": {},
          "execution_count": 20
        }
      ]
    },
    {
      "cell_type": "code",
      "source": [
        "#5 using labels\n",
        "labelled_alphabet_series['Label_U':]"
      ],
      "metadata": {
        "colab": {
          "base_uri": "https://localhost:8080/"
        },
        "id": "PTxWpGSOwYZ0",
        "outputId": "9033c4b5-85ab-4126-8d05-32ede2f67000"
      },
      "execution_count": 21,
      "outputs": [
        {
          "output_type": "execute_result",
          "data": {
            "text/plain": [
              "Label_U    u\n",
              "Label_V    v\n",
              "Label_W    w\n",
              "Label_X    x\n",
              "Label_Y    y\n",
              "Label_Z    z\n",
              "dtype: object"
            ]
          },
          "metadata": {},
          "execution_count": 21
        }
      ]
    },
    {
      "cell_type": "code",
      "source": [
        "alphabet_series = pd.Series(list(ascii_lowercase))"
      ],
      "metadata": {
        "id": "XCTF9huPwpLD"
      },
      "execution_count": 22,
      "outputs": []
    },
    {
      "cell_type": "code",
      "source": [
        "alphabet_series.head()"
      ],
      "metadata": {
        "colab": {
          "base_uri": "https://localhost:8080/"
        },
        "id": "VH4jIwbDSbFr",
        "outputId": "34d8d088-4573-4aaf-82a9-168e57d6eda0"
      },
      "execution_count": 23,
      "outputs": [
        {
          "output_type": "execute_result",
          "data": {
            "text/plain": [
              "0    a\n",
              "1    b\n",
              "2    c\n",
              "3    d\n",
              "4    e\n",
              "dtype: object"
            ]
          },
          "metadata": {},
          "execution_count": 23
        }
      ]
    },
    {
      "cell_type": "code",
      "source": [
        "alphabet_series.add_prefix('Label_')"
      ],
      "metadata": {
        "colab": {
          "base_uri": "https://localhost:8080/"
        },
        "id": "eqb_0DqtSlSg",
        "outputId": "ffcba8f1-3eef-4ba1-87e6-5c73a38212e6"
      },
      "execution_count": 24,
      "outputs": [
        {
          "output_type": "execute_result",
          "data": {
            "text/plain": [
              "Label_0     a\n",
              "Label_1     b\n",
              "Label_2     c\n",
              "Label_3     d\n",
              "Label_4     e\n",
              "Label_5     f\n",
              "Label_6     g\n",
              "Label_7     h\n",
              "Label_8     i\n",
              "Label_9     j\n",
              "Label_10    k\n",
              "Label_11    l\n",
              "Label_12    m\n",
              "Label_13    n\n",
              "Label_14    o\n",
              "Label_15    p\n",
              "Label_16    q\n",
              "Label_17    r\n",
              "Label_18    s\n",
              "Label_19    t\n",
              "Label_20    u\n",
              "Label_21    v\n",
              "Label_22    w\n",
              "Label_23    x\n",
              "Label_24    y\n",
              "Label_25    z\n",
              "dtype: object"
            ]
          },
          "metadata": {},
          "execution_count": 24
        }
      ]
    },
    {
      "cell_type": "code",
      "source": [
        "alphabet_series = alphabet_series.add_prefix('Label_')"
      ],
      "metadata": {
        "id": "y2FdCqXWSxTf"
      },
      "execution_count": 25,
      "outputs": []
    },
    {
      "cell_type": "code",
      "source": [
        "alphabet_series.head()"
      ],
      "metadata": {
        "colab": {
          "base_uri": "https://localhost:8080/"
        },
        "id": "QmQTOw-RTDga",
        "outputId": "215abdac-b410-4902-973a-ac19fbc37bba"
      },
      "execution_count": 26,
      "outputs": [
        {
          "output_type": "execute_result",
          "data": {
            "text/plain": [
              "Label_0    a\n",
              "Label_1    b\n",
              "Label_2    c\n",
              "Label_3    d\n",
              "Label_4    e\n",
              "dtype: object"
            ]
          },
          "metadata": {},
          "execution_count": 26
        }
      ]
    },
    {
      "cell_type": "code",
      "source": [
        "# alphabet_series.reset_index()"
      ],
      "metadata": {
        "id": "ekqOUwMfOrqx"
      },
      "execution_count": null,
      "outputs": []
    },
    {
      "cell_type": "code",
      "source": [
        "# alphabet_series = alphabet_series.add_prefix('Label_')"
      ],
      "metadata": {
        "id": "K67XeozDM6Ar"
      },
      "execution_count": null,
      "outputs": []
    },
    {
      "cell_type": "code",
      "source": [
        "alphabet_series.Label_20\n",
        "# alphabet_series.head()"
      ],
      "metadata": {
        "colab": {
          "base_uri": "https://localhost:8080/",
          "height": 35
        },
        "id": "KoJ147V4RsBo",
        "outputId": "d84b5edf-0715-4b58-86c9-000ea7f7fe3a"
      },
      "execution_count": 28,
      "outputs": [
        {
          "output_type": "execute_result",
          "data": {
            "application/vnd.google.colaboratory.intrinsic+json": {
              "type": "string"
            },
            "text/plain": [
              "'u'"
            ]
          },
          "metadata": {},
          "execution_count": 28
        }
      ]
    },
    {
      "cell_type": "code",
      "source": [
        "pd.__version__"
      ],
      "metadata": {
        "colab": {
          "base_uri": "https://localhost:8080/",
          "height": 35
        },
        "id": "iX_I3G8pRyMF",
        "outputId": "698ea19b-7d92-4f9d-ac22-62d8b0c9e554"
      },
      "execution_count": 29,
      "outputs": [
        {
          "output_type": "execute_result",
          "data": {
            "application/vnd.google.colaboratory.intrinsic+json": {
              "type": "string"
            },
            "text/plain": [
              "'1.1.5'"
            ]
          },
          "metadata": {},
          "execution_count": 29
        }
      ]
    },
    {
      "cell_type": "code",
      "source": [
        "squares = pd.Series([i**2 for i in range(100)])"
      ],
      "metadata": {
        "id": "l6hlqOEd_M5I"
      },
      "execution_count": 52,
      "outputs": []
    },
    {
      "cell_type": "code",
      "source": [
        "squares.tail()"
      ],
      "metadata": {
        "colab": {
          "base_uri": "https://localhost:8080/"
        },
        "id": "I9KPyWM-_wTQ",
        "outputId": "ab63f8a8-06d8-48dc-e51f-79e34823b389"
      },
      "execution_count": 53,
      "outputs": [
        {
          "output_type": "execute_result",
          "data": {
            "text/plain": [
              "95    9025\n",
              "96    9216\n",
              "97    9409\n",
              "98    9604\n",
              "99    9801\n",
              "dtype: int64"
            ]
          },
          "metadata": {},
          "execution_count": 53
        }
      ]
    },
    {
      "cell_type": "code",
      "source": [
        "t1=squares[-3:]"
      ],
      "metadata": {
        "id": "v1-F3y3OArkc"
      },
      "execution_count": 68,
      "outputs": []
    },
    {
      "cell_type": "code",
      "source": [
        "t2=squares.tail(3)"
      ],
      "metadata": {
        "id": "4GvCv-A-ArQh"
      },
      "execution_count": 69,
      "outputs": []
    },
    {
      "cell_type": "code",
      "source": [
        "t1.equals(t2)"
      ],
      "metadata": {
        "colab": {
          "base_uri": "https://localhost:8080/"
        },
        "id": "6plG4pTqAqiA",
        "outputId": "4fdfc531-3ed1-4f34-e19e-1523aca29d95"
      },
      "execution_count": 70,
      "outputs": [
        {
          "output_type": "execute_result",
          "data": {
            "text/plain": [
              "True"
            ]
          },
          "metadata": {},
          "execution_count": 70
        }
      ]
    },
    {
      "cell_type": "code",
      "source": [
        "squares[-3:].equals(squares.tail(3))"
      ],
      "metadata": {
        "colab": {
          "base_uri": "https://localhost:8080/"
        },
        "id": "5ALCKtr3E70S",
        "outputId": "64207d4e-02f7-4b79-d103-1bf7c02c4202"
      },
      "execution_count": 66,
      "outputs": [
        {
          "output_type": "execute_result",
          "data": {
            "text/plain": [
              "True"
            ]
          },
          "metadata": {},
          "execution_count": 66
        }
      ]
    },
    {
      "cell_type": "code",
      "source": [
        "# help(range)"
      ],
      "metadata": {
        "id": "KT1PMNpHbDZ_"
      },
      "execution_count": 67,
      "outputs": []
    },
    {
      "cell_type": "code",
      "source": [
        ""
      ],
      "metadata": {
        "id": "Tph8c0K19iI6"
      },
      "execution_count": null,
      "outputs": []
    }
  ]
}